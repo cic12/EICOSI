{
 "cells": [
  {
   "cell_type": "code",
   "execution_count": 50,
   "metadata": {},
   "outputs": [],
   "source": [
    "import os\n",
    "import datetime\n",
    "from shutil import copyfile\n",
    "import pandas as pd\n",
    "\n",
    "ts_day = '{:%Y-%m-%d}'.format(datetime.datetime.now())\n",
    "ts_test = '{:%Y-%m-%d_%H.%M.%S}'.format(datetime.datetime.now())\n",
    "\n",
    "config = pd.read_csv('../res/config.txt',header=None)\n",
    "cfg = config.values[0,:]\n",
    "\n",
    "test = (ts_test + '_DEV' + str(cfg[0]) + \n",
    "        '_HUM' + str(cfg[1]) + \n",
    "        '_AIN' + str(cfg[2]) + \n",
    "        '_CTL' + str(cfg[3]) + \n",
    "        '_CFG' + str(cfg[4]) + \n",
    "        '_TRJ' + str(cfg[5]))\n",
    "\n",
    "test_path = '../../exo_results/data/' + ts_day + '/' + test + '/'\n",
    "os.makedirs(os.path.dirname(test_path), exist_ok=True)\n",
    "\n",
    "def copy_test_file(test_path,file_path):\n",
    "    copyfile('../res/' + file_path, test_path + file_path)\n",
    "    \n",
    "for file in os.listdir('../res/'): # for all .txt files\n",
    "    if file.endswith(\".txt\"):\n",
    "        copy_test_file(test_path,file) # copy to test directory"
   ]
  },
  {
   "cell_type": "code",
   "execution_count": null,
   "metadata": {},
   "outputs": [],
   "source": []
  }
 ],
 "metadata": {
  "kernelspec": {
   "display_name": "Python 3",
   "language": "python",
   "name": "python3"
  },
  "language_info": {
   "codemirror_mode": {
    "name": "ipython",
    "version": 3
   },
   "file_extension": ".py",
   "mimetype": "text/x-python",
   "name": "python",
   "nbconvert_exporter": "python",
   "pygments_lexer": "ipython3",
   "version": "3.7.4"
  }
 },
 "nbformat": 4,
 "nbformat_minor": 2
}
