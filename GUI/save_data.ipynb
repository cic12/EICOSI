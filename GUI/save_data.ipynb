{
 "cells": [
  {
   "cell_type": "code",
   "execution_count": 6,
   "metadata": {},
   "outputs": [
    {
     "name": "stdout",
     "output_type": "stream",
     "text": [
      "2020-07-10_20.27.50\n"
     ]
    }
   ],
   "source": [
    "import os\n",
    "import datetime\n",
    "from shutil import copyfile\n",
    "\n",
    "timestamp_day = '{:%Y%m%d}'.format(datetime.datetime.now())\n",
    "timestamp_test = '{:%Y-%m-%d_%H.%M.%S}'.format(datetime.datetime.now())\n",
    "label_test = \n",
    "print(timestamp)\n",
    "\n",
    "\n",
    "\n",
    "# copyfile('../res/xvec.txt','../res/xveccopy.txt')"
   ]
  },
  {
   "cell_type": "code",
   "execution_count": null,
   "metadata": {},
   "outputs": [],
   "source": []
  }
 ],
 "metadata": {
  "kernelspec": {
   "display_name": "Python 3",
   "language": "python",
   "name": "python3"
  },
  "language_info": {
   "codemirror_mode": {
    "name": "ipython",
    "version": 3
   },
   "file_extension": ".py",
   "mimetype": "text/x-python",
   "name": "python",
   "nbconvert_exporter": "python",
   "pygments_lexer": "ipython3",
   "version": "3.7.4"
  }
 },
 "nbformat": 4,
 "nbformat_minor": 2
}
